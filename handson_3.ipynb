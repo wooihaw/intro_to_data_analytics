{
  "nbformat": 4,
  "nbformat_minor": 0,
  "metadata": {
    "kernelspec": {
      "display_name": "Python 3",
      "language": "python",
      "name": "python3"
    },
    "language_info": {
      "codemirror_mode": {
        "name": "ipython",
        "version": 3
      },
      "file_extension": ".py",
      "mimetype": "text/x-python",
      "name": "python",
      "nbconvert_exporter": "python",
      "pygments_lexer": "ipython3",
      "version": "3.8.5"
    },
    "colab": {
      "name": "handson_3.ipynb",
      "provenance": [],
      "include_colab_link": true
    }
  },
  "cells": [
    {
      "cell_type": "markdown",
      "metadata": {
        "id": "view-in-github",
        "colab_type": "text"
      },
      "source": [
        "<a href=\"https://colab.research.google.com/github/wooihaw/intro_to_data_analytics/blob/main/handson_3.ipynb\" target=\"_parent\"><img src=\"https://colab.research.google.com/assets/colab-badge.svg\" alt=\"Open In Colab\"/></a>"
      ]
    },
    {
      "cell_type": "markdown",
      "metadata": {
        "id": "wHHFnmXeTzt8"
      },
      "source": [
        "## Introduction to Data Analytics with Python\n",
        "### Hands-on 3 \n",
        "Prepared by Dr. Tan Wooi Haw, Multimedia University"
      ]
    },
    {
      "cell_type": "markdown",
      "metadata": {
        "id": "BhX5hHDzTzuA"
      },
      "source": [
        "#### Exercise: Analyze the Covid-19 data for Malaysia from 16 Feb 2020 to 14 Jan 2021\n",
        "  - Find out how many days with more than 2000 cases\n",
        "  - Find out how many days with more than 10 death\n",
        "  - Plot daily cases"
      ]
    },
    {
      "cell_type": "code",
      "metadata": {
        "id": "h3es-2MmT2LV"
      },
      "source": [
        "# Run this cell to download the dataset\r\n",
        "!wget https://raw.githubusercontent.com/wooihaw/datasets/main/covid19_malaysia.csv"
      ],
      "execution_count": null,
      "outputs": []
    },
    {
      "cell_type": "code",
      "metadata": {
        "id": "_552PLu4TzuB"
      },
      "source": [
        "# Exercise\n",
        "import pandas as pd\n",
        "import matplotlib.pyplot as plt\n",
        "\n",
        "df = pd.read_csv('covid19_malaysia.csv')\n",
        "df['date'] = pd.to_datetime(df['date'])\n",
        "df.set_index('date', inplace=True)"
      ],
      "execution_count": null,
      "outputs": []
    },
    {
      "cell_type": "code",
      "metadata": {
        "id": "Ora2w76aTzuB"
      },
      "source": [
        "# Exercise: Plot daily cases\n",
        "\n"
      ],
      "execution_count": null,
      "outputs": []
    },
    {
      "cell_type": "code",
      "metadata": {
        "id": "eCrD9z49TzuB"
      },
      "source": [
        "# Plot bar chart for cases per month\n",
        "m_groups = df.groupby(df.index.to_period('M'))\n",
        "x = m_groups['daily_cases'].sum().index.strftime('%b-%Y')\n",
        "y = m_groups['daily_cases'].sum()\n",
        "plt.bar(range(len(x)), y)\n",
        "for i, j in enumerate(m_groups['daily_cases'].sum()):\n",
        "    plt.text(i, j+500, str(j), color='r', size='small', weight='bold', ha='center')\n",
        "plt.xlabel('Month')\n",
        "plt.xticks(range(len(x)), [i for i in x], rotation=90)\n",
        "plt.ylabel('Number of cases')\n",
        "plt.title('Monthly Cases')\n",
        "plt.show()"
      ],
      "execution_count": null,
      "outputs": []
    },
    {
      "cell_type": "code",
      "metadata": {
        "id": "bUsSyesmTzuC"
      },
      "source": [
        "# Plot bar chart for deaths per month\n",
        "m_groups['daily_deaths'].sum().plot.bar()\n",
        "plt.title('Monthly deaths')\n",
        "plt.show()"
      ],
      "execution_count": null,
      "outputs": []
    },
    {
      "cell_type": "code",
      "metadata": {
        "id": "zmLXlBK0TzuC"
      },
      "source": [
        "# Plot bar chart for total cases for each day of week\n",
        "d_groups = df.groupby(df.index.day_name())\n",
        "d_groups['daily_cases'].sum().sort_values().plot.bar()\n",
        "for i, j in enumerate(d_groups['daily_cases'].sum().sort_values()):\n",
        "    plt.text(i, j+400, str(j), color='r', size='small', weight='bold', ha='center')\n",
        "plt.xlabel('Day of week')\n",
        "plt.xticks(rotation=45)\n",
        "plt.ylabel('No. of cases')\n",
        "plt.title('Total cases for each day of week')\n",
        "plt.show()"
      ],
      "execution_count": null,
      "outputs": []
    }
  ]
}