{
  "nbformat": 4,
  "nbformat_minor": 0,
  "metadata": {
    "kernelspec": {
      "display_name": "Python 3",
      "language": "python",
      "name": "python3"
    },
    "language_info": {
      "codemirror_mode": {
        "name": "ipython",
        "version": 3
      },
      "file_extension": ".py",
      "mimetype": "text/x-python",
      "name": "python",
      "nbconvert_exporter": "python",
      "pygments_lexer": "ipython3",
      "version": "3.8.5"
    },
    "colab": {
      "name": "handson_1.ipynb",
      "provenance": [],
      "include_colab_link": true
    }
  },
  "cells": [
    {
      "cell_type": "markdown",
      "metadata": {
        "id": "view-in-github",
        "colab_type": "text"
      },
      "source": [
        "<a href=\"https://colab.research.google.com/github/wooihaw/intro_to_data_analytics/blob/main/handson_1.ipynb\" target=\"_parent\"><img src=\"https://colab.research.google.com/assets/colab-badge.svg\" alt=\"Open In Colab\"/></a>"
      ]
    },
    {
      "cell_type": "markdown",
      "metadata": {
        "id": "6JC90D5bN6hz"
      },
      "source": [
        "## Introduction to Data Analytics with Python\n",
        "### Hands-on 1 \n",
        "Prepared by Dr. Tan Wooi Haw, Multimedia University"
      ]
    },
    {
      "cell_type": "code",
      "metadata": {
        "id": "BtXkSKB7N6h4"
      },
      "source": [
        "# Initial settings\n",
        "%matplotlib inline\n",
        "from warnings import filterwarnings\n",
        "filterwarnings('ignore')"
      ],
      "execution_count": null,
      "outputs": []
    },
    {
      "cell_type": "markdown",
      "metadata": {
        "id": "LrHcvBurN6h5"
      },
      "source": [
        "#### Exercise 1: Find the unique alphabets and their frequency of occurence"
      ]
    },
    {
      "cell_type": "code",
      "metadata": {
        "id": "x-xNwikzN6h5"
      },
      "source": [
        "# Exercise 1\n",
        "s1 = 'A quick brown fox jumps over the lazy dog.'\n",
        "\n",
        "\n",
        "\n",
        "# Can you try with the following sentence?\n",
        "s2 = 'Amazingly few discotheques provide jukeboxes.'"
      ],
      "execution_count": null,
      "outputs": []
    },
    {
      "cell_type": "markdown",
      "metadata": {
        "id": "Uc6BdpO4N6h5"
      },
      "source": [
        "#### Exercise 2: Find the unique words and their frequency of occurence"
      ]
    },
    {
      "cell_type": "code",
      "metadata": {
        "id": "WMaedzVvN6h5"
      },
      "source": [
        "# Exercise 2\n",
        "s3 = '''Peter Piper picked a peck of pickled peppers. \n",
        "    A peck of pickled peppers Peter Piper picked. \n",
        "    If Peter Piper picked a peck of pickled peppers, \n",
        "    where is the peck of pickled peppers Peter Piper picked?'''\n",
        "\n",
        "\n",
        "\n",
        "# Using Counter from the collections module\n",
        "from collections import Counter\n",
        "\n",
        "\n",
        "# Can you try with the following sentences?\n",
        "s4 = '''She sells seashells on the sea shore.\n",
        "    The shells she sells are seashells, I am sure.\n",
        "    And if she sells seashells on the sea shore,\n",
        "    then I am sure she sells seashore shells.'''"
      ],
      "execution_count": null,
      "outputs": []
    },
    {
      "cell_type": "markdown",
      "metadata": {
        "id": "v2ynmYMwN6h6"
      },
      "source": [
        "#### Exercise 3: Find the 10 most frequent words in a text file"
      ]
    },
    {
      "cell_type": "code",
      "metadata": {
        "id": "9RXCHyqZOIts"
      },
      "source": [
        "# Run this cell to download the text file\r\n",
        "!wget https://raw.githubusercontent.com/wooihaw/datasets/main/alice.txt"
      ],
      "execution_count": null,
      "outputs": []
    },
    {
      "cell_type": "code",
      "metadata": {
        "id": "qlgVvpC7N6h6"
      },
      "source": [
        "# Exercise 3\n",
        "from collections import Counter\n",
        "import matplotlib.pyplot as plt\n",
        "\n",
        "with open('alice.txt', 'r') as f:\n",
        "    s5 = f.read()\n",
        "print(s5[:300])\n",
        "\n",
        "\n",
        "\n",
        "# Plot bar chart for 10 most common words\n",
        "if 'count5' in globals():\n",
        "    freq10 = count5.most_common(10)\n",
        "    fw, ff = [i for i, j in freq10], [j for i, j in freq10]\n",
        "    plt.bar(fw, ff, color='blue')\n",
        "    plt.title('10 most common words')\n",
        "    plt.xlabel('Words')\n",
        "    plt.ylabel('No. of occurrence')\n",
        "    plt.show()"
      ],
      "execution_count": null,
      "outputs": []
    }
  ]
}