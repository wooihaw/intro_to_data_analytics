{
 "cells": [
  {
   "cell_type": "markdown",
   "metadata": {},
   "source": [
    "## Introduction to Data Analytics with Python\n",
    "### Hands-on 2\n",
    "Prepared by Dr. Tan Wooi Haw, Multimedia University"
   ]
  },
  {
   "cell_type": "markdown",
   "metadata": {},
   "source": [
    "#### Exercise: Analyze the data of 10000 persons\n",
    "  - Find the average, minimum and maximum height for all, males & females\n",
    "  - Find the average, minimum and maximum weight for all, males & females\n",
    "  - Find the number of males above average height\n",
    "  - Find the number of females below average weight"
   ]
  },
  {
   "cell_type": "code",
   "execution_count": null,
   "metadata": {},
   "outputs": [],
   "source": [
    "# Hands-on 2\n",
    "import pandas as pd\n",
    "import matplotlib.pyplot as plt\n",
    "\n",
    "df = pd.read_excel('genders_heights_weights.xlsx', engine='openpyxl')\n",
    "males = df[df['Gender']=='Male']\n",
    "females = df[df['Gender']=='Female']"
   ]
  },
  {
   "cell_type": "code",
   "execution_count": null,
   "metadata": {},
   "outputs": [],
   "source": [
    "# Plot histograms of heights for all\n",
    "df['Height'].hist(color='green', alpha=0.5, label='All')\n",
    "plt.axvline(df['Height'].mean(), color='green', ls='--')\n",
    "plt.xlabel('Height')\n",
    "plt.ylabel('No. of person')\n",
    "plt.legend(loc=0)\n",
    "plt.show()"
   ]
  },
  {
   "cell_type": "code",
   "execution_count": null,
   "metadata": {},
   "outputs": [],
   "source": [
    "# Plot histograms of heights for males & females\n",
    "males['Height'].hist(color='blue', alpha=0.5, label='Male')\n",
    "females['Height'].hist(color='red', alpha=0.5, label='Female')\n",
    "plt.axvline(males['Height'].mean(), color='blue', ls='--')\n",
    "plt.axvline(females['Height'].mean(), color='red', ls='--')\n",
    "plt.xlabel('Height')\n",
    "plt.ylabel('No. of person')\n",
    "plt.legend(loc=1)\n",
    "plt.show()"
   ]
  },
  {
   "cell_type": "code",
   "execution_count": null,
   "metadata": {},
   "outputs": [],
   "source": [
    "# Plot scatterplot \n",
    "xm = males.values[:, 1]\n",
    "ym = males.values[:, 2]\n",
    "xf = females.values[:, 1]\n",
    "yf = females.values[:, 2]\n",
    "plt.scatter(xm, ym, c='blue', alpha=0.2, label='Male')\n",
    "plt.scatter(xf, yf, c='red', alpha=0.2, label='Female')\n",
    "plt.xlabel('Height')\n",
    "plt.ylabel('Weight')\n",
    "plt.legend(loc=0)\n",
    "plt.show()"
   ]
  }
 ],
 "metadata": {
  "kernelspec": {
   "display_name": "Python 3",
   "language": "python",
   "name": "python3"
  },
  "language_info": {
   "codemirror_mode": {
    "name": "ipython",
    "version": 3
   },
   "file_extension": ".py",
   "mimetype": "text/x-python",
   "name": "python",
   "nbconvert_exporter": "python",
   "pygments_lexer": "ipython3",
   "version": "3.8.5"
  }
 },
 "nbformat": 4,
 "nbformat_minor": 4
}
