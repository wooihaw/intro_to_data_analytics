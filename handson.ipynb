{
  "nbformat": 4,
  "nbformat_minor": 0,
  "metadata": {
    "kernelspec": {
      "display_name": "Python 3",
      "language": "python",
      "name": "python3"
    },
    "language_info": {
      "codemirror_mode": {
        "name": "ipython",
        "version": 3
      },
      "file_extension": ".py",
      "mimetype": "text/x-python",
      "name": "python",
      "nbconvert_exporter": "python",
      "pygments_lexer": "ipython3",
      "version": "3.8.3"
    },
    "colab": {
      "name": "handson.ipynb",
      "provenance": [],
      "include_colab_link": true
    }
  },
  "cells": [
    {
      "cell_type": "markdown",
      "metadata": {
        "id": "view-in-github",
        "colab_type": "text"
      },
      "source": [
        "<a href=\"https://colab.research.google.com/github/wooihaw/intro_to_data_analytics/blob/main/handson.ipynb\" target=\"_parent\"><img src=\"https://colab.research.google.com/assets/colab-badge.svg\" alt=\"Open In Colab\"/></a>"
      ]
    },
    {
      "cell_type": "markdown",
      "metadata": {
        "id": "4ZzpQM1rq6qZ"
      },
      "source": [
        "## This is the hands-on for \"Introduction to Data Analytics\" workshop \n",
        "Prepared by Dr. Tan Wooi Haw, Multimedia University"
      ]
    },
    {
      "cell_type": "code",
      "metadata": {
        "id": "uEy9OU0vq8nd"
      },
      "source": [
        "!wget https://raw.githubusercontent.com/wooihaw/intro_to_data_analytics/main/data.zip"
      ],
      "execution_count": null,
      "outputs": []
    },
    {
      "cell_type": "code",
      "metadata": {
        "id": "9be0XTJRrL8v"
      },
      "source": [
        "!unzip data.zip"
      ],
      "execution_count": null,
      "outputs": []
    },
    {
      "cell_type": "code",
      "metadata": {
        "id": "4O0RY6FZq6qb"
      },
      "source": [
        "# Initial settings\n",
        "%matplotlib inline\n",
        "from warnings import filterwarnings\n",
        "filterwarnings('ignore')"
      ],
      "execution_count": null,
      "outputs": []
    },
    {
      "cell_type": "markdown",
      "metadata": {
        "id": "y6iqMQenq6qb"
      },
      "source": [
        "#### Hands-on 1: Find the unique alphabets and their frequency of occurence"
      ]
    },
    {
      "cell_type": "code",
      "metadata": {
        "id": "EPgkhf5Uq6qc"
      },
      "source": [
        "# Hands-on 1\n",
        "s1 = 'A quick brown fox jumps over the lazy dog.'\n",
        "\n",
        "\n",
        "\n",
        "# Can you try with the following sentence?\n",
        "s2 = 'Amazingly few discotheques provide jukeboxes.'"
      ],
      "execution_count": null,
      "outputs": []
    },
    {
      "cell_type": "markdown",
      "metadata": {
        "id": "DF5EjqRYq6qc"
      },
      "source": [
        "#### Hands-on 2: Find the unique words and their frequency of occurence"
      ]
    },
    {
      "cell_type": "code",
      "metadata": {
        "id": "SCSiqYjWq6qc"
      },
      "source": [
        "# Hands-on 2\n",
        "s3 = '''Peter Piper picked a peck of pickled peppers. \n",
        "    A peck of pickled peppers Peter Piper picked. \n",
        "    If Peter Piper picked a peck of pickled peppers, \n",
        "    where is the peck of pickled peppers Peter Piper picked?'''\n",
        "\n",
        "\n",
        "\n",
        "# Using Counter from the collections module\n",
        "from collections import Counter\n",
        "\n",
        "\n",
        "# Can you try with the following sentences?\n",
        "s4 = '''She sells seashells on the sea shore.\n",
        "    The shells she sells are seashells, I am sure.\n",
        "    And if she sells seashells on the sea shore,\n",
        "    then I am sure she sells seashore shells.'''"
      ],
      "execution_count": null,
      "outputs": []
    },
    {
      "cell_type": "markdown",
      "metadata": {
        "id": "5_q8ysT1q6qd"
      },
      "source": [
        "#### Hands-on 3: Find the 10 most frequent words in a text file"
      ]
    },
    {
      "cell_type": "code",
      "metadata": {
        "id": "Pwe-99ozq6qd"
      },
      "source": [
        "# Hands-on 3\n",
        "from collections import Counter\n",
        "import matplotlib.pyplot as plt\n",
        "\n",
        "with open('data/alice.txt', 'r') as f:\n",
        "    s5 = f.read()\n",
        "print(s5[:400])\n",
        "\n",
        "\n",
        "\n",
        "# Plot bar chart for 10 most common words\n",
        "if 'count5' in globals():\n",
        "    freq10 = count5.most_common(10)\n",
        "    fw, ff = [i for i, j in freq10], [j for i, j in freq10]\n",
        "    plt.bar(fw, ff, color='blue')\n",
        "    plt.title('10 most common words')\n",
        "    plt.xlabel('Words')\n",
        "    plt.ylabel('No. of occurrence')\n",
        "    plt.show()"
      ],
      "execution_count": null,
      "outputs": []
    },
    {
      "cell_type": "markdown",
      "metadata": {
        "id": "b5ZBHsprq6qd"
      },
      "source": [
        "#### Hands-on 4: Analyze the Covid-19 data for Malaysia from 16 Feb 2020 to 18 Dec 2020\n",
        "  - Find out how many days with more than 1000 cases\n",
        "  - Find out how many days with more than 10 death"
      ]
    },
    {
      "cell_type": "code",
      "metadata": {
        "id": "7ZsJ2mWUq6qd"
      },
      "source": [
        "# Hands-on 4\n",
        "import pandas as pd\n",
        "import matplotlib.pyplot as plt\n",
        "\n",
        "df = pd.read_csv('data/covid19_malaysia.csv')\n",
        "df['date'] = pd.to_datetime(df['date'])\n",
        "\n",
        "\n",
        "# Plot bar chart for new cases per month\n",
        "groups = df.groupby(df['date'].dt.month)\n",
        "groups['new_cases'].sum().plot.bar()\n",
        "plt.grid(True)\n",
        "plt.xlabel('Month')\n",
        "plt.ylabel('New cases')\n",
        "plt.show()\n",
        "\n",
        "# Plot bar chart for death per month\n",
        "groups['death'].sum().plot.bar(color='red')\n",
        "plt.grid(True)\n",
        "plt.xlabel('Month')\n",
        "plt.ylabel('Death')\n",
        "plt.show()\n",
        "\n",
        "# Plot bar chart for new cases for each day of week\n",
        "groups = df.groupby(df['date'].dt.day_name())\n",
        "groups['new_cases'].sum().plot.bar()\n",
        "plt.grid(True)\n",
        "plt.xlabel('Month')\n",
        "plt.ylabel('New cases')\n",
        "plt.show()\n",
        "\n",
        "# Plot bar chart for death for each day of week\n",
        "groups['death'].sum().plot.bar(color='red')\n",
        "plt.grid(True)\n",
        "plt.xlabel('Month')\n",
        "plt.ylabel('Death')\n",
        "plt.show()"
      ],
      "execution_count": null,
      "outputs": []
    },
    {
      "cell_type": "markdown",
      "metadata": {
        "id": "AMlqqmSvq6qe"
      },
      "source": [
        "#### Hands-on 5: Analyze the data of 10000 persons\n",
        "  - Find the average, minimum and maximum height for all, males & females\n",
        "  - Find the average, minimum and maximum weight for all, males & females\n",
        "  - Find the number of males above average height\n",
        "  - Find the number of females below average weight"
      ]
    },
    {
      "cell_type": "code",
      "metadata": {
        "id": "gUVnTnGaq6qe"
      },
      "source": [
        "# Hands-on 5\n",
        "import pandas as pd\n",
        "import matplotlib.pyplot as plt\n",
        "\n",
        "df = pd.read_excel('data/genders_heights_weights.xlsx')\n",
        "males = df[df['Gender']=='Male']\n",
        "females = df[df['Gender']=='Female']\n",
        "\n",
        "\n",
        "# Plot histograms\n",
        "df['Height'].hist(color='green', alpha=0.5, label='All')\n",
        "plt.axvline(df['Height'].mean(), color='green', ls='--')\n",
        "plt.xlabel('Height')\n",
        "plt.ylabel('No. of person')\n",
        "plt.legend(loc=0)\n",
        "plt.show()\n",
        "\n",
        "males['Height'].hist(color='blue', alpha=0.5, label='Male')\n",
        "females['Height'].hist(color='red', alpha=0.5, label='Female')\n",
        "plt.axvline(males['Height'].mean(), color='blue', ls='--')\n",
        "plt.axvline(females['Height'].mean(), color='red', ls='--')\n",
        "plt.xlabel('Height')\n",
        "plt.ylabel('No. of person')\n",
        "plt.legend(loc=1)\n",
        "plt.show()\n",
        "\n",
        "# Plot scatterplot \n",
        "xm = males.values[:, 1]\n",
        "ym = males.values[:, 2]\n",
        "xf = females.values[:, 1]\n",
        "yf = females.values[:, 2]\n",
        "plt.scatter(xm, ym, c='blue', alpha=0.2, label='Male')\n",
        "plt.scatter(xf, yf, c='red', alpha=0.2, label='Female')\n",
        "plt.xlabel('Height')\n",
        "plt.ylabel('Weight')\n",
        "plt.legend(loc=0)\n",
        "plt.show()"
      ],
      "execution_count": null,
      "outputs": []
    }
  ]
}